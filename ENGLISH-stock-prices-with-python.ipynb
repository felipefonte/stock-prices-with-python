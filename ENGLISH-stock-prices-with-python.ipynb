{
 "cells": [
  {
   "cell_type": "markdown",
   "id": "e60e5745",
   "metadata": {},
   "source": [
    "In this tutorial, I will show you how to get the historical price of any stock using Python. Here, we will need yfinance to read stock information directly from the Yahoo! Finance API. To install it on your computer, simply run the code pip install yfinance --upgrade --no-cache-dir."
   ]
  },
  {
   "cell_type": "markdown",
   "id": "1a8e8622",
   "metadata": {},
   "source": [
    "## Imports"
   ]
  },
  {
   "cell_type": "code",
   "execution_count": 1,
   "id": "236d7612",
   "metadata": {},
   "outputs": [],
   "source": [
    "import pandas as pd\n",
    "pd.set_option('display.float_format', lambda x: '%.2f' % x)\n",
    "import numpy as np\n",
    "import yfinance as yf\n",
    "import matplotlib.pyplot as plt\n",
    "%matplotlib inline"
   ]
  },
  {
   "cell_type": "code",
   "execution_count": 2,
   "id": "efecb673",
   "metadata": {},
   "outputs": [
    {
     "data": {
      "text/plain": [
       "'0.2.41'"
      ]
     },
     "execution_count": 2,
     "metadata": {},
     "output_type": "execute_result"
    }
   ],
   "source": [
    "yf.__version__"
   ]
  },
  {
   "cell_type": "markdown",
   "id": "2024189d",
   "metadata": {},
   "source": [
    "## Data"
   ]
  },
  {
   "cell_type": "markdown",
   "id": "79f8cb64",
   "metadata": {},
   "source": [
    "We will obtain information on the shares of the following companies in Brazil:\n",
    "\n",
    "* Petrobrás\n",
    "* Ambev\n",
    "* Usiminas\n",
    "* Ibovesba Index\n",
    "\n",
    "The chosen period will be 10 years, between 01/08/2014 and 01/08/2024, as defined below."
   ]
  },
  {
   "cell_type": "code",
   "execution_count": 3,
   "id": "af49ac5c",
   "metadata": {},
   "outputs": [],
   "source": [
    "start_date = '2014-08-01'\n",
    "end_date = '2024-08-01'"
   ]
  },
  {
   "cell_type": "markdown",
   "id": "2ae4fea2",
   "metadata": {},
   "source": [
    "## Downloading data"
   ]
  },
  {
   "cell_type": "code",
   "execution_count": 4,
   "id": "6e9ffca3",
   "metadata": {},
   "outputs": [
    {
     "name": "stderr",
     "output_type": "stream",
     "text": [
      "[*********************100%%**********************]  1 of 1 completed\n",
      "[*********************100%%**********************]  1 of 1 completed\n",
      "[*********************100%%**********************]  1 of 1 completed\n",
      "[*********************100%%**********************]  1 of 1 completed\n"
     ]
    }
   ],
   "source": [
    "import yfinance as yf\n",
    "petr4 = yf.download(\"PETR4.SA\", start=start_date, end=end_date) #Petrobrás\n",
    "abev3 = yf.download(\"ABEV3.SA\", start=start_date, end=end_date) #Ambev\n",
    "usim5 = yf.download(\"USIM5.SA\", start=start_date, end=end_date) #Usiminas\n",
    "ibov = yf.download(\"^BVSP\", start=start_date, end=end_date) #Ibovespa"
   ]
  },
  {
   "cell_type": "markdown",
   "id": "a5e4ac65",
   "metadata": {},
   "source": [
    "## Viewing the 3 oldest and 3 most recent data for each stock"
   ]
  },
  {
   "cell_type": "markdown",
   "id": "0552db34",
   "metadata": {},
   "source": [
    "* Petrobrás"
   ]
  },
  {
   "cell_type": "code",
   "execution_count": 5,
   "id": "74b512c7",
   "metadata": {},
   "outputs": [
    {
     "data": {
      "text/html": [
       "<div>\n",
       "<style scoped>\n",
       "    .dataframe tbody tr th:only-of-type {\n",
       "        vertical-align: middle;\n",
       "    }\n",
       "\n",
       "    .dataframe tbody tr th {\n",
       "        vertical-align: top;\n",
       "    }\n",
       "\n",
       "    .dataframe thead th {\n",
       "        text-align: right;\n",
       "    }\n",
       "</style>\n",
       "<table border=\"1\" class=\"dataframe\">\n",
       "  <thead>\n",
       "    <tr style=\"text-align: right;\">\n",
       "      <th></th>\n",
       "      <th>Open</th>\n",
       "      <th>High</th>\n",
       "      <th>Low</th>\n",
       "      <th>Close</th>\n",
       "      <th>Adj Close</th>\n",
       "      <th>Volume</th>\n",
       "    </tr>\n",
       "    <tr>\n",
       "      <th>Date</th>\n",
       "      <th></th>\n",
       "      <th></th>\n",
       "      <th></th>\n",
       "      <th></th>\n",
       "      <th></th>\n",
       "      <th></th>\n",
       "    </tr>\n",
       "  </thead>\n",
       "  <tbody>\n",
       "    <tr>\n",
       "      <th>2014-08-01</th>\n",
       "      <td>19.01</td>\n",
       "      <td>19.21</td>\n",
       "      <td>18.72</td>\n",
       "      <td>19.00</td>\n",
       "      <td>6.10</td>\n",
       "      <td>30658500</td>\n",
       "    </tr>\n",
       "    <tr>\n",
       "      <th>2014-08-04</th>\n",
       "      <td>19.15</td>\n",
       "      <td>19.56</td>\n",
       "      <td>18.87</td>\n",
       "      <td>19.55</td>\n",
       "      <td>6.28</td>\n",
       "      <td>22501200</td>\n",
       "    </tr>\n",
       "    <tr>\n",
       "      <th>2014-08-05</th>\n",
       "      <td>19.46</td>\n",
       "      <td>20.09</td>\n",
       "      <td>19.30</td>\n",
       "      <td>19.70</td>\n",
       "      <td>6.32</td>\n",
       "      <td>53674100</td>\n",
       "    </tr>\n",
       "  </tbody>\n",
       "</table>\n",
       "</div>"
      ],
      "text/plain": [
       "            Open  High   Low  Close  Adj Close    Volume\n",
       "Date                                                    \n",
       "2014-08-01 19.01 19.21 18.72  19.00       6.10  30658500\n",
       "2014-08-04 19.15 19.56 18.87  19.55       6.28  22501200\n",
       "2014-08-05 19.46 20.09 19.30  19.70       6.32  53674100"
      ]
     },
     "execution_count": 5,
     "metadata": {},
     "output_type": "execute_result"
    }
   ],
   "source": [
    "petr4.head(3)"
   ]
  },
  {
   "cell_type": "code",
   "execution_count": 6,
   "id": "38b62d66",
   "metadata": {},
   "outputs": [
    {
     "data": {
      "text/html": [
       "<div>\n",
       "<style scoped>\n",
       "    .dataframe tbody tr th:only-of-type {\n",
       "        vertical-align: middle;\n",
       "    }\n",
       "\n",
       "    .dataframe tbody tr th {\n",
       "        vertical-align: top;\n",
       "    }\n",
       "\n",
       "    .dataframe thead th {\n",
       "        text-align: right;\n",
       "    }\n",
       "</style>\n",
       "<table border=\"1\" class=\"dataframe\">\n",
       "  <thead>\n",
       "    <tr style=\"text-align: right;\">\n",
       "      <th></th>\n",
       "      <th>Open</th>\n",
       "      <th>High</th>\n",
       "      <th>Low</th>\n",
       "      <th>Close</th>\n",
       "      <th>Adj Close</th>\n",
       "      <th>Volume</th>\n",
       "    </tr>\n",
       "    <tr>\n",
       "      <th>Date</th>\n",
       "      <th></th>\n",
       "      <th></th>\n",
       "      <th></th>\n",
       "      <th></th>\n",
       "      <th></th>\n",
       "      <th></th>\n",
       "    </tr>\n",
       "  </thead>\n",
       "  <tbody>\n",
       "    <tr>\n",
       "      <th>2024-07-29</th>\n",
       "      <td>37.51</td>\n",
       "      <td>37.72</td>\n",
       "      <td>36.42</td>\n",
       "      <td>36.88</td>\n",
       "      <td>35.86</td>\n",
       "      <td>39790000</td>\n",
       "    </tr>\n",
       "    <tr>\n",
       "      <th>2024-07-30</th>\n",
       "      <td>36.51</td>\n",
       "      <td>36.77</td>\n",
       "      <td>36.39</td>\n",
       "      <td>36.65</td>\n",
       "      <td>35.64</td>\n",
       "      <td>16040700</td>\n",
       "    </tr>\n",
       "    <tr>\n",
       "      <th>2024-07-31</th>\n",
       "      <td>37.05</td>\n",
       "      <td>37.41</td>\n",
       "      <td>36.96</td>\n",
       "      <td>37.41</td>\n",
       "      <td>36.37</td>\n",
       "      <td>28561100</td>\n",
       "    </tr>\n",
       "  </tbody>\n",
       "</table>\n",
       "</div>"
      ],
      "text/plain": [
       "            Open  High   Low  Close  Adj Close    Volume\n",
       "Date                                                    \n",
       "2024-07-29 37.51 37.72 36.42  36.88      35.86  39790000\n",
       "2024-07-30 36.51 36.77 36.39  36.65      35.64  16040700\n",
       "2024-07-31 37.05 37.41 36.96  37.41      36.37  28561100"
      ]
     },
     "execution_count": 6,
     "metadata": {},
     "output_type": "execute_result"
    }
   ],
   "source": [
    "petr4.tail(3)"
   ]
  },
  {
   "cell_type": "markdown",
   "id": "2c93609f",
   "metadata": {},
   "source": [
    "* Ambev"
   ]
  },
  {
   "cell_type": "code",
   "execution_count": 7,
   "id": "9f232c4a",
   "metadata": {},
   "outputs": [
    {
     "data": {
      "text/html": [
       "<div>\n",
       "<style scoped>\n",
       "    .dataframe tbody tr th:only-of-type {\n",
       "        vertical-align: middle;\n",
       "    }\n",
       "\n",
       "    .dataframe tbody tr th {\n",
       "        vertical-align: top;\n",
       "    }\n",
       "\n",
       "    .dataframe thead th {\n",
       "        text-align: right;\n",
       "    }\n",
       "</style>\n",
       "<table border=\"1\" class=\"dataframe\">\n",
       "  <thead>\n",
       "    <tr style=\"text-align: right;\">\n",
       "      <th></th>\n",
       "      <th>Open</th>\n",
       "      <th>High</th>\n",
       "      <th>Low</th>\n",
       "      <th>Close</th>\n",
       "      <th>Adj Close</th>\n",
       "      <th>Volume</th>\n",
       "    </tr>\n",
       "    <tr>\n",
       "      <th>Date</th>\n",
       "      <th></th>\n",
       "      <th></th>\n",
       "      <th></th>\n",
       "      <th></th>\n",
       "      <th></th>\n",
       "      <th></th>\n",
       "    </tr>\n",
       "  </thead>\n",
       "  <tbody>\n",
       "    <tr>\n",
       "      <th>2014-08-01</th>\n",
       "      <td>15.69</td>\n",
       "      <td>15.77</td>\n",
       "      <td>15.55</td>\n",
       "      <td>15.61</td>\n",
       "      <td>10.45</td>\n",
       "      <td>10414700</td>\n",
       "    </tr>\n",
       "    <tr>\n",
       "      <th>2014-08-04</th>\n",
       "      <td>15.68</td>\n",
       "      <td>15.73</td>\n",
       "      <td>15.42</td>\n",
       "      <td>15.63</td>\n",
       "      <td>10.46</td>\n",
       "      <td>11224700</td>\n",
       "    </tr>\n",
       "    <tr>\n",
       "      <th>2014-08-05</th>\n",
       "      <td>15.62</td>\n",
       "      <td>15.65</td>\n",
       "      <td>15.27</td>\n",
       "      <td>15.33</td>\n",
       "      <td>10.26</td>\n",
       "      <td>11756200</td>\n",
       "    </tr>\n",
       "  </tbody>\n",
       "</table>\n",
       "</div>"
      ],
      "text/plain": [
       "            Open  High   Low  Close  Adj Close    Volume\n",
       "Date                                                    \n",
       "2014-08-01 15.69 15.77 15.55  15.61      10.45  10414700\n",
       "2014-08-04 15.68 15.73 15.42  15.63      10.46  11224700\n",
       "2014-08-05 15.62 15.65 15.27  15.33      10.26  11756200"
      ]
     },
     "execution_count": 7,
     "metadata": {},
     "output_type": "execute_result"
    }
   ],
   "source": [
    "abev3.head(3)"
   ]
  },
  {
   "cell_type": "code",
   "execution_count": 8,
   "id": "818666fe",
   "metadata": {},
   "outputs": [
    {
     "data": {
      "text/html": [
       "<div>\n",
       "<style scoped>\n",
       "    .dataframe tbody tr th:only-of-type {\n",
       "        vertical-align: middle;\n",
       "    }\n",
       "\n",
       "    .dataframe tbody tr th {\n",
       "        vertical-align: top;\n",
       "    }\n",
       "\n",
       "    .dataframe thead th {\n",
       "        text-align: right;\n",
       "    }\n",
       "</style>\n",
       "<table border=\"1\" class=\"dataframe\">\n",
       "  <thead>\n",
       "    <tr style=\"text-align: right;\">\n",
       "      <th></th>\n",
       "      <th>Open</th>\n",
       "      <th>High</th>\n",
       "      <th>Low</th>\n",
       "      <th>Close</th>\n",
       "      <th>Adj Close</th>\n",
       "      <th>Volume</th>\n",
       "    </tr>\n",
       "    <tr>\n",
       "      <th>Date</th>\n",
       "      <th></th>\n",
       "      <th></th>\n",
       "      <th></th>\n",
       "      <th></th>\n",
       "      <th></th>\n",
       "      <th></th>\n",
       "    </tr>\n",
       "  </thead>\n",
       "  <tbody>\n",
       "    <tr>\n",
       "      <th>2024-07-29</th>\n",
       "      <td>11.87</td>\n",
       "      <td>11.88</td>\n",
       "      <td>11.76</td>\n",
       "      <td>11.82</td>\n",
       "      <td>11.82</td>\n",
       "      <td>38125500</td>\n",
       "    </tr>\n",
       "    <tr>\n",
       "      <th>2024-07-30</th>\n",
       "      <td>11.79</td>\n",
       "      <td>11.81</td>\n",
       "      <td>11.64</td>\n",
       "      <td>11.64</td>\n",
       "      <td>11.64</td>\n",
       "      <td>29077200</td>\n",
       "    </tr>\n",
       "    <tr>\n",
       "      <th>2024-07-31</th>\n",
       "      <td>11.60</td>\n",
       "      <td>11.73</td>\n",
       "      <td>11.51</td>\n",
       "      <td>11.58</td>\n",
       "      <td>11.58</td>\n",
       "      <td>66719000</td>\n",
       "    </tr>\n",
       "  </tbody>\n",
       "</table>\n",
       "</div>"
      ],
      "text/plain": [
       "            Open  High   Low  Close  Adj Close    Volume\n",
       "Date                                                    \n",
       "2024-07-29 11.87 11.88 11.76  11.82      11.82  38125500\n",
       "2024-07-30 11.79 11.81 11.64  11.64      11.64  29077200\n",
       "2024-07-31 11.60 11.73 11.51  11.58      11.58  66719000"
      ]
     },
     "execution_count": 8,
     "metadata": {},
     "output_type": "execute_result"
    }
   ],
   "source": [
    "abev3.tail(3)"
   ]
  },
  {
   "cell_type": "markdown",
   "id": "89d61025",
   "metadata": {},
   "source": [
    "* Usiminas"
   ]
  },
  {
   "cell_type": "code",
   "execution_count": 9,
   "id": "e7816d6c",
   "metadata": {},
   "outputs": [
    {
     "data": {
      "text/html": [
       "<div>\n",
       "<style scoped>\n",
       "    .dataframe tbody tr th:only-of-type {\n",
       "        vertical-align: middle;\n",
       "    }\n",
       "\n",
       "    .dataframe tbody tr th {\n",
       "        vertical-align: top;\n",
       "    }\n",
       "\n",
       "    .dataframe thead th {\n",
       "        text-align: right;\n",
       "    }\n",
       "</style>\n",
       "<table border=\"1\" class=\"dataframe\">\n",
       "  <thead>\n",
       "    <tr style=\"text-align: right;\">\n",
       "      <th></th>\n",
       "      <th>Open</th>\n",
       "      <th>High</th>\n",
       "      <th>Low</th>\n",
       "      <th>Close</th>\n",
       "      <th>Adj Close</th>\n",
       "      <th>Volume</th>\n",
       "    </tr>\n",
       "    <tr>\n",
       "      <th>Date</th>\n",
       "      <th></th>\n",
       "      <th></th>\n",
       "      <th></th>\n",
       "      <th></th>\n",
       "      <th></th>\n",
       "      <th></th>\n",
       "    </tr>\n",
       "  </thead>\n",
       "  <tbody>\n",
       "    <tr>\n",
       "      <th>2014-08-01</th>\n",
       "      <td>8.02</td>\n",
       "      <td>8.18</td>\n",
       "      <td>7.96</td>\n",
       "      <td>8.10</td>\n",
       "      <td>6.31</td>\n",
       "      <td>4631600</td>\n",
       "    </tr>\n",
       "    <tr>\n",
       "      <th>2014-08-04</th>\n",
       "      <td>8.14</td>\n",
       "      <td>8.22</td>\n",
       "      <td>8.01</td>\n",
       "      <td>8.07</td>\n",
       "      <td>6.29</td>\n",
       "      <td>3136400</td>\n",
       "    </tr>\n",
       "    <tr>\n",
       "      <th>2014-08-05</th>\n",
       "      <td>8.05</td>\n",
       "      <td>8.09</td>\n",
       "      <td>7.98</td>\n",
       "      <td>8.05</td>\n",
       "      <td>6.27</td>\n",
       "      <td>4856400</td>\n",
       "    </tr>\n",
       "  </tbody>\n",
       "</table>\n",
       "</div>"
      ],
      "text/plain": [
       "            Open  High  Low  Close  Adj Close   Volume\n",
       "Date                                                  \n",
       "2014-08-01  8.02  8.18 7.96   8.10       6.31  4631600\n",
       "2014-08-04  8.14  8.22 8.01   8.07       6.29  3136400\n",
       "2014-08-05  8.05  8.09 7.98   8.05       6.27  4856400"
      ]
     },
     "execution_count": 9,
     "metadata": {},
     "output_type": "execute_result"
    }
   ],
   "source": [
    "usim5.head(3)"
   ]
  },
  {
   "cell_type": "code",
   "execution_count": 10,
   "id": "4016d341",
   "metadata": {},
   "outputs": [
    {
     "data": {
      "text/html": [
       "<div>\n",
       "<style scoped>\n",
       "    .dataframe tbody tr th:only-of-type {\n",
       "        vertical-align: middle;\n",
       "    }\n",
       "\n",
       "    .dataframe tbody tr th {\n",
       "        vertical-align: top;\n",
       "    }\n",
       "\n",
       "    .dataframe thead th {\n",
       "        text-align: right;\n",
       "    }\n",
       "</style>\n",
       "<table border=\"1\" class=\"dataframe\">\n",
       "  <thead>\n",
       "    <tr style=\"text-align: right;\">\n",
       "      <th></th>\n",
       "      <th>Open</th>\n",
       "      <th>High</th>\n",
       "      <th>Low</th>\n",
       "      <th>Close</th>\n",
       "      <th>Adj Close</th>\n",
       "      <th>Volume</th>\n",
       "    </tr>\n",
       "    <tr>\n",
       "      <th>Date</th>\n",
       "      <th></th>\n",
       "      <th></th>\n",
       "      <th></th>\n",
       "      <th></th>\n",
       "      <th></th>\n",
       "      <th></th>\n",
       "    </tr>\n",
       "  </thead>\n",
       "  <tbody>\n",
       "    <tr>\n",
       "      <th>2024-07-29</th>\n",
       "      <td>6.37</td>\n",
       "      <td>6.50</td>\n",
       "      <td>5.98</td>\n",
       "      <td>6.05</td>\n",
       "      <td>6.05</td>\n",
       "      <td>65303000</td>\n",
       "    </tr>\n",
       "    <tr>\n",
       "      <th>2024-07-30</th>\n",
       "      <td>5.99</td>\n",
       "      <td>6.37</td>\n",
       "      <td>5.91</td>\n",
       "      <td>6.33</td>\n",
       "      <td>6.33</td>\n",
       "      <td>48880200</td>\n",
       "    </tr>\n",
       "    <tr>\n",
       "      <th>2024-07-31</th>\n",
       "      <td>6.35</td>\n",
       "      <td>6.38</td>\n",
       "      <td>6.20</td>\n",
       "      <td>6.22</td>\n",
       "      <td>6.22</td>\n",
       "      <td>20686400</td>\n",
       "    </tr>\n",
       "  </tbody>\n",
       "</table>\n",
       "</div>"
      ],
      "text/plain": [
       "            Open  High  Low  Close  Adj Close    Volume\n",
       "Date                                                   \n",
       "2024-07-29  6.37  6.50 5.98   6.05       6.05  65303000\n",
       "2024-07-30  5.99  6.37 5.91   6.33       6.33  48880200\n",
       "2024-07-31  6.35  6.38 6.20   6.22       6.22  20686400"
      ]
     },
     "execution_count": 10,
     "metadata": {},
     "output_type": "execute_result"
    }
   ],
   "source": [
    "usim5.tail(3)"
   ]
  },
  {
   "cell_type": "markdown",
   "id": "466e6a18",
   "metadata": {},
   "source": [
    "* Ibovespa"
   ]
  },
  {
   "cell_type": "code",
   "execution_count": 11,
   "id": "22d55fd0",
   "metadata": {},
   "outputs": [
    {
     "data": {
      "text/html": [
       "<div>\n",
       "<style scoped>\n",
       "    .dataframe tbody tr th:only-of-type {\n",
       "        vertical-align: middle;\n",
       "    }\n",
       "\n",
       "    .dataframe tbody tr th {\n",
       "        vertical-align: top;\n",
       "    }\n",
       "\n",
       "    .dataframe thead th {\n",
       "        text-align: right;\n",
       "    }\n",
       "</style>\n",
       "<table border=\"1\" class=\"dataframe\">\n",
       "  <thead>\n",
       "    <tr style=\"text-align: right;\">\n",
       "      <th></th>\n",
       "      <th>Open</th>\n",
       "      <th>High</th>\n",
       "      <th>Low</th>\n",
       "      <th>Close</th>\n",
       "      <th>Adj Close</th>\n",
       "      <th>Volume</th>\n",
       "    </tr>\n",
       "    <tr>\n",
       "      <th>Date</th>\n",
       "      <th></th>\n",
       "      <th></th>\n",
       "      <th></th>\n",
       "      <th></th>\n",
       "      <th></th>\n",
       "      <th></th>\n",
       "    </tr>\n",
       "  </thead>\n",
       "  <tbody>\n",
       "    <tr>\n",
       "      <th>2014-08-01</th>\n",
       "      <td>55827.00</td>\n",
       "      <td>56059.00</td>\n",
       "      <td>55267.00</td>\n",
       "      <td>55903.00</td>\n",
       "      <td>55903.00</td>\n",
       "      <td>3229100</td>\n",
       "    </tr>\n",
       "    <tr>\n",
       "      <th>2014-08-04</th>\n",
       "      <td>55906.00</td>\n",
       "      <td>56620.00</td>\n",
       "      <td>55586.00</td>\n",
       "      <td>56616.00</td>\n",
       "      <td>56616.00</td>\n",
       "      <td>2195100</td>\n",
       "    </tr>\n",
       "    <tr>\n",
       "      <th>2014-08-05</th>\n",
       "      <td>56621.00</td>\n",
       "      <td>56937.00</td>\n",
       "      <td>56064.00</td>\n",
       "      <td>56202.00</td>\n",
       "      <td>56202.00</td>\n",
       "      <td>3752600</td>\n",
       "    </tr>\n",
       "  </tbody>\n",
       "</table>\n",
       "</div>"
      ],
      "text/plain": [
       "               Open     High      Low    Close  Adj Close   Volume\n",
       "Date                                                              \n",
       "2014-08-01 55827.00 56059.00 55267.00 55903.00   55903.00  3229100\n",
       "2014-08-04 55906.00 56620.00 55586.00 56616.00   56616.00  2195100\n",
       "2014-08-05 56621.00 56937.00 56064.00 56202.00   56202.00  3752600"
      ]
     },
     "execution_count": 11,
     "metadata": {},
     "output_type": "execute_result"
    }
   ],
   "source": [
    "ibov.head(3)"
   ]
  },
  {
   "cell_type": "code",
   "execution_count": 12,
   "id": "7d067ed0",
   "metadata": {},
   "outputs": [
    {
     "data": {
      "text/html": [
       "<div>\n",
       "<style scoped>\n",
       "    .dataframe tbody tr th:only-of-type {\n",
       "        vertical-align: middle;\n",
       "    }\n",
       "\n",
       "    .dataframe tbody tr th {\n",
       "        vertical-align: top;\n",
       "    }\n",
       "\n",
       "    .dataframe thead th {\n",
       "        text-align: right;\n",
       "    }\n",
       "</style>\n",
       "<table border=\"1\" class=\"dataframe\">\n",
       "  <thead>\n",
       "    <tr style=\"text-align: right;\">\n",
       "      <th></th>\n",
       "      <th>Open</th>\n",
       "      <th>High</th>\n",
       "      <th>Low</th>\n",
       "      <th>Close</th>\n",
       "      <th>Adj Close</th>\n",
       "      <th>Volume</th>\n",
       "    </tr>\n",
       "    <tr>\n",
       "      <th>Date</th>\n",
       "      <th></th>\n",
       "      <th></th>\n",
       "      <th></th>\n",
       "      <th></th>\n",
       "      <th></th>\n",
       "      <th></th>\n",
       "    </tr>\n",
       "  </thead>\n",
       "  <tbody>\n",
       "    <tr>\n",
       "      <th>2024-07-29</th>\n",
       "      <td>127492.00</td>\n",
       "      <td>127657.00</td>\n",
       "      <td>126606.00</td>\n",
       "      <td>126954.00</td>\n",
       "      <td>126954.00</td>\n",
       "      <td>7075400</td>\n",
       "    </tr>\n",
       "    <tr>\n",
       "      <th>2024-07-30</th>\n",
       "      <td>126951.00</td>\n",
       "      <td>126951.00</td>\n",
       "      <td>125973.00</td>\n",
       "      <td>126139.00</td>\n",
       "      <td>126139.00</td>\n",
       "      <td>6848600</td>\n",
       "    </tr>\n",
       "    <tr>\n",
       "      <th>2024-07-31</th>\n",
       "      <td>126139.00</td>\n",
       "      <td>127853.00</td>\n",
       "      <td>126139.00</td>\n",
       "      <td>127652.00</td>\n",
       "      <td>127652.00</td>\n",
       "      <td>9471900</td>\n",
       "    </tr>\n",
       "  </tbody>\n",
       "</table>\n",
       "</div>"
      ],
      "text/plain": [
       "                Open      High       Low     Close  Adj Close   Volume\n",
       "Date                                                                  \n",
       "2024-07-29 127492.00 127657.00 126606.00 126954.00  126954.00  7075400\n",
       "2024-07-30 126951.00 126951.00 125973.00 126139.00  126139.00  6848600\n",
       "2024-07-31 126139.00 127853.00 126139.00 127652.00  127652.00  9471900"
      ]
     },
     "execution_count": 12,
     "metadata": {},
     "output_type": "execute_result"
    }
   ],
   "source": [
    "ibov.tail(3)"
   ]
  },
  {
   "cell_type": "markdown",
   "id": "7028506c",
   "metadata": {},
   "source": [
    "## Finding the value of a stock on a specific day"
   ]
  },
  {
   "cell_type": "code",
   "execution_count": 13,
   "id": "47a085a7",
   "metadata": {},
   "outputs": [
    {
     "data": {
      "text/plain": [
       "Open              36.22\n",
       "High              36.89\n",
       "Low               36.20\n",
       "Close             36.50\n",
       "Adj Close         35.49\n",
       "Volume      39442900.00\n",
       "Name: 2024-06-20 00:00:00, dtype: float64"
      ]
     },
     "execution_count": 13,
     "metadata": {},
     "output_type": "execute_result"
    }
   ],
   "source": [
    "petr4.loc['2024-06-20']"
   ]
  },
  {
   "cell_type": "markdown",
   "id": "1ed8dcd1",
   "metadata": {},
   "source": [
    "## Finding the value of a stock in a specific period"
   ]
  },
  {
   "cell_type": "code",
   "execution_count": 14,
   "id": "e278f3bd",
   "metadata": {},
   "outputs": [
    {
     "data": {
      "text/html": [
       "<div>\n",
       "<style scoped>\n",
       "    .dataframe tbody tr th:only-of-type {\n",
       "        vertical-align: middle;\n",
       "    }\n",
       "\n",
       "    .dataframe tbody tr th {\n",
       "        vertical-align: top;\n",
       "    }\n",
       "\n",
       "    .dataframe thead th {\n",
       "        text-align: right;\n",
       "    }\n",
       "</style>\n",
       "<table border=\"1\" class=\"dataframe\">\n",
       "  <thead>\n",
       "    <tr style=\"text-align: right;\">\n",
       "      <th></th>\n",
       "      <th>Open</th>\n",
       "      <th>High</th>\n",
       "      <th>Low</th>\n",
       "      <th>Close</th>\n",
       "      <th>Adj Close</th>\n",
       "      <th>Volume</th>\n",
       "    </tr>\n",
       "    <tr>\n",
       "      <th>Date</th>\n",
       "      <th></th>\n",
       "      <th></th>\n",
       "      <th></th>\n",
       "      <th></th>\n",
       "      <th></th>\n",
       "      <th></th>\n",
       "    </tr>\n",
       "  </thead>\n",
       "  <tbody>\n",
       "    <tr>\n",
       "      <th>2024-06-03</th>\n",
       "      <td>38.83</td>\n",
       "      <td>38.93</td>\n",
       "      <td>38.44</td>\n",
       "      <td>38.58</td>\n",
       "      <td>36.47</td>\n",
       "      <td>43454500</td>\n",
       "    </tr>\n",
       "    <tr>\n",
       "      <th>2024-06-04</th>\n",
       "      <td>38.40</td>\n",
       "      <td>38.43</td>\n",
       "      <td>37.70</td>\n",
       "      <td>38.15</td>\n",
       "      <td>36.07</td>\n",
       "      <td>34090200</td>\n",
       "    </tr>\n",
       "    <tr>\n",
       "      <th>2024-06-05</th>\n",
       "      <td>38.26</td>\n",
       "      <td>38.43</td>\n",
       "      <td>38.07</td>\n",
       "      <td>38.20</td>\n",
       "      <td>36.11</td>\n",
       "      <td>18627100</td>\n",
       "    </tr>\n",
       "    <tr>\n",
       "      <th>2024-06-06</th>\n",
       "      <td>38.28</td>\n",
       "      <td>38.72</td>\n",
       "      <td>38.27</td>\n",
       "      <td>38.38</td>\n",
       "      <td>36.28</td>\n",
       "      <td>25944100</td>\n",
       "    </tr>\n",
       "    <tr>\n",
       "      <th>2024-06-07</th>\n",
       "      <td>38.22</td>\n",
       "      <td>38.47</td>\n",
       "      <td>36.86</td>\n",
       "      <td>36.94</td>\n",
       "      <td>34.92</td>\n",
       "      <td>46003600</td>\n",
       "    </tr>\n",
       "    <tr>\n",
       "      <th>2024-06-10</th>\n",
       "      <td>37.19</td>\n",
       "      <td>38.06</td>\n",
       "      <td>37.12</td>\n",
       "      <td>37.50</td>\n",
       "      <td>35.45</td>\n",
       "      <td>32560900</td>\n",
       "    </tr>\n",
       "    <tr>\n",
       "      <th>2024-06-11</th>\n",
       "      <td>37.81</td>\n",
       "      <td>38.00</td>\n",
       "      <td>37.50</td>\n",
       "      <td>37.66</td>\n",
       "      <td>35.60</td>\n",
       "      <td>31131300</td>\n",
       "    </tr>\n",
       "    <tr>\n",
       "      <th>2024-06-12</th>\n",
       "      <td>36.95</td>\n",
       "      <td>37.05</td>\n",
       "      <td>35.61</td>\n",
       "      <td>35.82</td>\n",
       "      <td>34.83</td>\n",
       "      <td>52182400</td>\n",
       "    </tr>\n",
       "    <tr>\n",
       "      <th>2024-06-13</th>\n",
       "      <td>35.90</td>\n",
       "      <td>36.19</td>\n",
       "      <td>34.85</td>\n",
       "      <td>35.46</td>\n",
       "      <td>34.48</td>\n",
       "      <td>46233500</td>\n",
       "    </tr>\n",
       "    <tr>\n",
       "      <th>2024-06-14</th>\n",
       "      <td>35.49</td>\n",
       "      <td>35.50</td>\n",
       "      <td>34.15</td>\n",
       "      <td>34.68</td>\n",
       "      <td>33.72</td>\n",
       "      <td>53534900</td>\n",
       "    </tr>\n",
       "    <tr>\n",
       "      <th>2024-06-17</th>\n",
       "      <td>34.41</td>\n",
       "      <td>35.13</td>\n",
       "      <td>34.27</td>\n",
       "      <td>34.81</td>\n",
       "      <td>33.85</td>\n",
       "      <td>40941800</td>\n",
       "    </tr>\n",
       "    <tr>\n",
       "      <th>2024-06-18</th>\n",
       "      <td>34.89</td>\n",
       "      <td>36.14</td>\n",
       "      <td>34.82</td>\n",
       "      <td>35.90</td>\n",
       "      <td>34.91</td>\n",
       "      <td>36180700</td>\n",
       "    </tr>\n",
       "    <tr>\n",
       "      <th>2024-06-19</th>\n",
       "      <td>35.90</td>\n",
       "      <td>36.12</td>\n",
       "      <td>35.57</td>\n",
       "      <td>35.93</td>\n",
       "      <td>34.94</td>\n",
       "      <td>20776200</td>\n",
       "    </tr>\n",
       "    <tr>\n",
       "      <th>2024-06-20</th>\n",
       "      <td>36.22</td>\n",
       "      <td>36.89</td>\n",
       "      <td>36.20</td>\n",
       "      <td>36.50</td>\n",
       "      <td>35.49</td>\n",
       "      <td>39442900</td>\n",
       "    </tr>\n",
       "    <tr>\n",
       "      <th>2024-06-21</th>\n",
       "      <td>36.55</td>\n",
       "      <td>36.96</td>\n",
       "      <td>36.38</td>\n",
       "      <td>36.69</td>\n",
       "      <td>35.67</td>\n",
       "      <td>43340200</td>\n",
       "    </tr>\n",
       "    <tr>\n",
       "      <th>2024-06-24</th>\n",
       "      <td>36.84</td>\n",
       "      <td>37.06</td>\n",
       "      <td>36.48</td>\n",
       "      <td>37.06</td>\n",
       "      <td>36.03</td>\n",
       "      <td>24599400</td>\n",
       "    </tr>\n",
       "    <tr>\n",
       "      <th>2024-06-25</th>\n",
       "      <td>37.05</td>\n",
       "      <td>37.12</td>\n",
       "      <td>36.76</td>\n",
       "      <td>37.03</td>\n",
       "      <td>36.01</td>\n",
       "      <td>18572600</td>\n",
       "    </tr>\n",
       "    <tr>\n",
       "      <th>2024-06-26</th>\n",
       "      <td>36.80</td>\n",
       "      <td>37.12</td>\n",
       "      <td>36.71</td>\n",
       "      <td>37.09</td>\n",
       "      <td>36.06</td>\n",
       "      <td>25553200</td>\n",
       "    </tr>\n",
       "    <tr>\n",
       "      <th>2024-06-27</th>\n",
       "      <td>37.51</td>\n",
       "      <td>37.96</td>\n",
       "      <td>37.32</td>\n",
       "      <td>37.71</td>\n",
       "      <td>36.67</td>\n",
       "      <td>37731000</td>\n",
       "    </tr>\n",
       "    <tr>\n",
       "      <th>2024-06-28</th>\n",
       "      <td>37.80</td>\n",
       "      <td>38.17</td>\n",
       "      <td>37.71</td>\n",
       "      <td>38.05</td>\n",
       "      <td>37.00</td>\n",
       "      <td>22019700</td>\n",
       "    </tr>\n",
       "  </tbody>\n",
       "</table>\n",
       "</div>"
      ],
      "text/plain": [
       "            Open  High   Low  Close  Adj Close    Volume\n",
       "Date                                                    \n",
       "2024-06-03 38.83 38.93 38.44  38.58      36.47  43454500\n",
       "2024-06-04 38.40 38.43 37.70  38.15      36.07  34090200\n",
       "2024-06-05 38.26 38.43 38.07  38.20      36.11  18627100\n",
       "2024-06-06 38.28 38.72 38.27  38.38      36.28  25944100\n",
       "2024-06-07 38.22 38.47 36.86  36.94      34.92  46003600\n",
       "2024-06-10 37.19 38.06 37.12  37.50      35.45  32560900\n",
       "2024-06-11 37.81 38.00 37.50  37.66      35.60  31131300\n",
       "2024-06-12 36.95 37.05 35.61  35.82      34.83  52182400\n",
       "2024-06-13 35.90 36.19 34.85  35.46      34.48  46233500\n",
       "2024-06-14 35.49 35.50 34.15  34.68      33.72  53534900\n",
       "2024-06-17 34.41 35.13 34.27  34.81      33.85  40941800\n",
       "2024-06-18 34.89 36.14 34.82  35.90      34.91  36180700\n",
       "2024-06-19 35.90 36.12 35.57  35.93      34.94  20776200\n",
       "2024-06-20 36.22 36.89 36.20  36.50      35.49  39442900\n",
       "2024-06-21 36.55 36.96 36.38  36.69      35.67  43340200\n",
       "2024-06-24 36.84 37.06 36.48  37.06      36.03  24599400\n",
       "2024-06-25 37.05 37.12 36.76  37.03      36.01  18572600\n",
       "2024-06-26 36.80 37.12 36.71  37.09      36.06  25553200\n",
       "2024-06-27 37.51 37.96 37.32  37.71      36.67  37731000\n",
       "2024-06-28 37.80 38.17 37.71  38.05      37.00  22019700"
      ]
     },
     "execution_count": 14,
     "metadata": {},
     "output_type": "execute_result"
    }
   ],
   "source": [
    "petr4.loc['2024-06-01':'2024-06-30'] # June/2024"
   ]
  },
  {
   "cell_type": "markdown",
   "id": "5775e682",
   "metadata": {},
   "source": [
    "## Plotting"
   ]
  },
  {
   "cell_type": "code",
   "execution_count": 15,
   "id": "239b6455",
   "metadata": {},
   "outputs": [],
   "source": [
    "def plot_stock(df, stock_name):\n",
    "    \"\"\"\n",
    "    Plots the Adj Close: Adjusted close is the closing price after\n",
    "    adjustments for all applicable splits and dividend distributions.\n",
    "    \"\"\"\n",
    "    plt.rcParams[\"figure.figsize\"] = [14,5]\n",
    "    plt.plot(df.index.values, df['Adj Close'].values)    \n",
    "    plt.xlabel('Date')\n",
    "    plt.ylabel('Value (R$)')\n",
    "    plt.title(stock_name)"
   ]
  },
  {
   "cell_type": "code",
   "execution_count": 16,
   "id": "a0b8fde6",
   "metadata": {},
   "outputs": [
    {
     "data": {
      "image/png": "[encoded data removed]",
      "text/plain": [
       "<Figure size 1008x360 with 1 Axes>"
      ]
     },
     "metadata": {
      "needs_background": "light"
     },
     "output_type": "display_data"
    }
   ],
   "source": [
    "plot_stock(petr4, 'Petrobrás')"
   ]
  },
  {
   "cell_type": "code",
   "execution_count": 17,
   "id": "9c4f39ee",
   "metadata": {},
   "outputs": [
    {
     "data": {
      "image/png": "[encoded data removed]",
      "text/plain": [
       "<Figure size 1008x360 with 1 Axes>"
      ]
     },
     "metadata": {
      "needs_background": "light"
     },
     "output_type": "display_data"
    }
   ],
   "source": [
    "plot_stock(usim5, 'Usiminas')"
   ]
  },
  {
   "cell_type": "code",
   "execution_count": 18,
   "id": "c12a4092",
   "metadata": {},
   "outputs": [
    {
     "data": {
      "image/png": "[encoded data removed]",
      "text/plain": [
       "<Figure size 1008x360 with 1 Axes>"
      ]
     },
     "metadata": {
      "needs_background": "light"
     },
     "output_type": "display_data"
    }
   ],
   "source": [
    "plot_stock(abev3, 'Ambev')"
   ]
  },
  {
   "cell_type": "code",
   "execution_count": 19,
   "id": "9a4a0c60",
   "metadata": {},
   "outputs": [
    {
     "data": {
      "image/png": "[encoded data removed]",
      "text/plain": [
       "<Figure size 1008x360 with 1 Axes>"
      ]
     },
     "metadata": {
      "needs_background": "light"
     },
     "output_type": "display_data"
    }
   ],
   "source": [
    "plot_stock(ibov, 'Ibovespa')"
   ]
  },
  {
   "cell_type": "markdown",
   "id": "f7b2b22c",
   "metadata": {},
   "source": [
    "In these 10 years, it is easy to see which was the best investment among the assets shown: Petrobrás."
   ]
  }
 ],
 "metadata": {
  "kernelspec": {
   "display_name": "Python 3",
   "language": "python",
   "name": "python3"
  },
  "language_info": {
   "codemirror_mode": {
    "name": "ipython",
    "version": 3
   },
   "file_extension": ".py",
   "mimetype": "text/x-python",
   "name": "python",
   "nbconvert_exporter": "python",
   "pygments_lexer": "ipython3",
   "version": "3.8.8"
  }
 },
 "nbformat": 4,
 "nbformat_minor": 5
}
